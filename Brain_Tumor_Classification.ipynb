{
  "nbformat": 4,
  "nbformat_minor": 0,
  "metadata": {
    "colab": {
      "provenance": []
    },
    "kernelspec": {
      "name": "python3",
      "display_name": "Python 3"
    },
    "language_info": {
      "name": "python"
    }
  },
  "cells": [
    {
      "cell_type": "markdown",
      "source": [
        "### Brain Tumor Classification using SVM and Feature Extraction\n",
        "### Introduction:\n",
        "Brain tumors are abnormal growths in the brain, which can be classified into different types such as glioma, meningioma, and pituitary tumors. Early and accurate detection is crucial for effective treatment planning. In this project, we use a Support Vector Machine (SVM) classifier along with Histogram of Oriented Gradients (HOG) and Sobel edge detection features to classify brain tumors into four categories:\n",
        "\n",
        "Glioma Tumor\n",
        "\n",
        "Meningioma Tumor\n",
        "\n",
        "Pituitary Tumor\n",
        "\n",
        "No Tumor\n",
        "\n",
        "We apply Principal Component Analysis (PCA) for dimensionality reduction and perform hyperparameter tuning using GridSearchCV to optimize the SVM model.\n",
        "\n",
        "\n"
      ],
      "metadata": {
        "id": "3ItoyW4SQ5Cw"
      }
    },
    {
      "cell_type": "markdown",
      "source": [
        "### 1. Import Required Libraries\n",
        "We start by importing the necessary libraries for image processing, feature extraction, machine learning, and evaluation.\n",
        "\n",
        "We import libraries for image processing (cv2, skimage).\n",
        "\n",
        "\n",
        "SVM (Support Vector Machine) from sklearn.svm is used for classification.\n",
        "\n",
        "PCA (Principal Component Analysis) from sklearn.decomposition is used for dimensionality reduction.\n",
        "\n",
        "joblib is used to save and load models.\n",
        "\n",
        "GridSearchCV is used for hyperparameter tuning."
      ],
      "metadata": {
        "id": "V8e1XRsPXOQ-"
      }
    },
    {
      "cell_type": "code",
      "source": [
        "import numpy as np\n",
        "import os\n",
        "import joblib\n",
        "import cv2\n",
        "from skimage.feature import hog\n",
        "from skimage.filters import sobel\n",
        "from sklearn.decomposition import PCA\n",
        "from sklearn.model_selection import train_test_split, GridSearchCV\n",
        "from sklearn.svm import SVC\n",
        "from sklearn.preprocessing import StandardScaler\n",
        "from sklearn.utils.class_weight import compute_class_weight\n",
        "from sklearn.metrics import classification_report, accuracy_score\n",
        "from tensorflow.keras.preprocessing.image import img_to_array, load_img"
      ],
      "metadata": {
        "id": "99M7wb9-JuOE"
      },
      "execution_count": null,
      "outputs": []
    },
    {
      "cell_type": "markdown",
      "source": [
        "### 2. Define Image Size and Label Mapping\n",
        "We define a fixed size of 200x200 pixels for all images to ensure uniformity in feature extraction."
      ],
      "metadata": {
        "id": "acN1TCKoRCQt"
      }
    },
    {
      "cell_type": "code",
      "source": [
        "# Set image size\n",
        "IMG_SIZE = (200, 200)"
      ],
      "metadata": {
        "id": "FD0Yo275J3Ry"
      },
      "execution_count": null,
      "outputs": []
    },
    {
      "cell_type": "markdown",
      "source": [
        "### 3. Define Label Mapping\n",
        "We map each brain tumor type to an integer label for easier processing."
      ],
      "metadata": {
        "id": "zTl0qe8oU087"
      }
    },
    {
      "cell_type": "code",
      "source": [
        "# Define label mapping\n",
        "LABEL_MAP = {'glioma_tumor': 0, 'meningioma_tumor': 1, 'pituitary_tumor': 2, 'no_tumor': 3}"
      ],
      "metadata": {
        "id": "s5it4iNXKAmp"
      },
      "execution_count": null,
      "outputs": []
    },
    {
      "cell_type": "markdown",
      "source": [
        "### 4. Feature Extraction (HOG and Sobel Edge Detection)\n",
        "HOG (Histogram of Oriented Gradients): Extracts shape-based features.\n",
        "\n",
        "Sobel edge detection: Captures texture details.\n"
      ],
      "metadata": {
        "id": "veRb4wcHROs2"
      }
    },
    {
      "cell_type": "code",
      "source": [
        "# Function to extract HOG and texture features\n",
        "def extract_features(image):\n",
        "    hog_features = hog(image, orientations=9, pixels_per_cell=(8, 8), cells_per_block=(2, 2), feature_vector=True)\n",
        "    texture_features = sobel(image).flatten()  # Adding Sobel edge detection as additional features\n",
        "    return np.concatenate((hog_features, texture_features))"
      ],
      "metadata": {
        "id": "nBHaN_smKDji"
      },
      "execution_count": null,
      "outputs": []
    },
    {
      "cell_type": "markdown",
      "source": [
        "### 5. Load and Preprocess Dataset\n",
        "This function loads images, applies histogram equalization, and extracts features.\n",
        "Grayscale conversion reduces computational complexity.\n",
        "\n",
        "Histogram Equalization improves image contrast.\n",
        "\n",
        "Extracted HOG + Sobel features are stored in images.\n",
        "\n",
        "Corresponding labels are stored in labels."
      ],
      "metadata": {
        "id": "Ko0MR0y9RVA4"
      }
    },
    {
      "cell_type": "code",
      "source": [
        "# Function to load and preprocess dataset\n",
        "def load_data(directory):\n",
        "    images, labels = [], []\n",
        "    for label in os.listdir(directory):\n",
        "        path = os.path.join(directory, label)\n",
        "        if os.path.isdir(path):\n",
        "            for file in os.listdir(path):\n",
        "                img_path = os.path.join(path, file)\n",
        "                img = load_img(img_path, target_size=IMG_SIZE, color_mode='grayscale')\n",
        "                img_array = img_to_array(img).astype(np.uint8)\n",
        "\n",
        "                # Applying Histogram Equalization\n",
        "                img_array = cv2.equalizeHist(img_array)\n",
        "\n",
        "                # Extracting combined features\n",
        "                features = extract_features(img_array)\n",
        "\n",
        "                images.append(features)\n",
        "                labels.append(LABEL_MAP[label])\n",
        "    return np.array(images), np.array(labels)"
      ],
      "metadata": {
        "id": "fXry2kC8KE8Y"
      },
      "execution_count": null,
      "outputs": []
    },
    {
      "cell_type": "markdown",
      "source": [
        "### 6. Load and Normalize Data\n",
        "We load the dataset, normalize it using `StandardScaler`, and apply PCA for dimensionality reduction.\n"
      ],
      "metadata": {
        "id": "YR_yYXS_RdgM"
      }
    },
    {
      "cell_type": "code",
      "source": [
        "# Load dataset\n",
        "X, y = load_data('/content/Brain-Tumor-Classification-DataSet/Training')"
      ],
      "metadata": {
        "id": "6JIXxclNKJSr"
      },
      "execution_count": null,
      "outputs": []
    },
    {
      "cell_type": "code",
      "source": [
        "# Normalize data\n",
        "scaler = StandardScaler()\n",
        "X = scaler.fit_transform(X)"
      ],
      "metadata": {
        "id": "m_jWT0ltKTh2"
      },
      "execution_count": null,
      "outputs": []
    },
    {
      "cell_type": "markdown",
      "source": [
        "### 7. Dimensionality Reduction using PCA\n",
        "Principal Component Analysis (PCA) helps reduce the number of features while retaining maximum variance. Here, we set `n_components=800` to retain more features."
      ],
      "metadata": {
        "id": "NgZ7rcz5TOk_"
      }
    },
    {
      "cell_type": "code",
      "source": [
        "# Applying PCA with optimized components\n",
        "pca = PCA(n_components=800)  # Increased to retain more features\n",
        "X_pca = pca.fit_transform(X)"
      ],
      "metadata": {
        "id": "UpH3WCOpKX8R"
      },
      "execution_count": null,
      "outputs": []
    },
    {
      "cell_type": "markdown",
      "source": [
        "### 8. Compute Class Weights\n",
        "To handle class imbalance, we compute class weights."
      ],
      "metadata": {
        "id": "zVzDgp5fRpcK"
      }
    },
    {
      "cell_type": "code",
      "source": [
        "# Compute class weights to handle imbalance\n",
        "class_weights = compute_class_weight(\"balanced\", classes=np.unique(y), y=y)\n",
        "class_weight_dict = {i: class_weights[i] for i in range(len(class_weights))}"
      ],
      "metadata": {
        "id": "fJct377BKcT3"
      },
      "execution_count": null,
      "outputs": []
    },
    {
      "cell_type": "markdown",
      "source": [
        "### 9. Split Data into Training and Testing Sets\n",
        "80% training and 20% testing split is performed."
      ],
      "metadata": {
        "id": "BxGzDOEyRwgr"
      }
    },
    {
      "cell_type": "code",
      "source": [
        "# Split data\n",
        "X_train, X_test, y_train, y_test = train_test_split(X_pca, y, test_size=0.2, random_state=42)"
      ],
      "metadata": {
        "id": "TOhbuDuTKfeo"
      },
      "execution_count": null,
      "outputs": []
    },
    {
      "cell_type": "markdown",
      "source": [
        "### 10. Train SVM with Hyperparameter Tuning\n",
        "We perform a grid search to find the best SVM hyperparameters.\n",
        "We optimize SVM using GridSearchCV with:\n",
        "\n",
        "C (Regularization parameter)\n",
        "\n",
        "gamma (Kernel coefficient)\n",
        "\n",
        "kernel='rbf' (Radial Basis Function)\n",
        "\n",
        "probability=True (Enables probability estimation)"
      ],
      "metadata": {
        "id": "fpHvRer4R4QR"
      }
    },
    {
      "cell_type": "code",
      "source": [
        "# Hyperparameter tuning for SVM\n",
        "param_grid = {'C': [1, 10, 50], 'gamma': ['scale', 'auto'], 'kernel': ['rbf'], 'probability': [True]}  # Add probability to the param_grid\n",
        "grid_search = GridSearchCV(SVC(class_weight=class_weight_dict), param_grid, cv=5, verbose=2)\n",
        "grid_search.fit(X_train, y_train)"
      ],
      "metadata": {
        "colab": {
          "base_uri": "https://localhost:8080/",
          "height": 703
        },
        "id": "d1BgXQgSKi7y",
        "outputId": "ce5af75b-75e1-433c-f0fd-c3be7154c294"
      },
      "execution_count": null,
      "outputs": [
        {
          "output_type": "stream",
          "name": "stdout",
          "text": [
            "Fitting 5 folds for each of 6 candidates, totalling 30 fits\n",
            "[CV] END .....C=1, gamma=scale, kernel=rbf, probability=True; total time=  10.0s\n",
            "[CV] END .....C=1, gamma=scale, kernel=rbf, probability=True; total time=   6.5s\n",
            "[CV] END .....C=1, gamma=scale, kernel=rbf, probability=True; total time=   7.2s\n",
            "[CV] END .....C=1, gamma=scale, kernel=rbf, probability=True; total time=   6.6s\n",
            "[CV] END .....C=1, gamma=scale, kernel=rbf, probability=True; total time=   7.2s\n",
            "[CV] END ......C=1, gamma=auto, kernel=rbf, probability=True; total time=  10.1s\n",
            "[CV] END ......C=1, gamma=auto, kernel=rbf, probability=True; total time=   9.9s\n",
            "[CV] END ......C=1, gamma=auto, kernel=rbf, probability=True; total time=   9.6s\n",
            "[CV] END ......C=1, gamma=auto, kernel=rbf, probability=True; total time=   9.9s\n",
            "[CV] END ......C=1, gamma=auto, kernel=rbf, probability=True; total time=  10.2s\n",
            "[CV] END ....C=10, gamma=scale, kernel=rbf, probability=True; total time=   7.6s\n",
            "[CV] END ....C=10, gamma=scale, kernel=rbf, probability=True; total time=   9.2s\n",
            "[CV] END ....C=10, gamma=scale, kernel=rbf, probability=True; total time=   8.2s\n",
            "[CV] END ....C=10, gamma=scale, kernel=rbf, probability=True; total time=   7.3s\n",
            "[CV] END ....C=10, gamma=scale, kernel=rbf, probability=True; total time=   7.4s\n",
            "[CV] END .....C=10, gamma=auto, kernel=rbf, probability=True; total time=  10.1s\n",
            "[CV] END .....C=10, gamma=auto, kernel=rbf, probability=True; total time=  15.0s\n",
            "[CV] END .....C=10, gamma=auto, kernel=rbf, probability=True; total time=  10.1s\n",
            "[CV] END .....C=10, gamma=auto, kernel=rbf, probability=True; total time=  10.2s\n",
            "[CV] END .....C=10, gamma=auto, kernel=rbf, probability=True; total time=   9.5s\n",
            "[CV] END ....C=50, gamma=scale, kernel=rbf, probability=True; total time=   8.0s\n",
            "[CV] END ....C=50, gamma=scale, kernel=rbf, probability=True; total time=   7.7s\n",
            "[CV] END ....C=50, gamma=scale, kernel=rbf, probability=True; total time=   7.2s\n",
            "[CV] END ....C=50, gamma=scale, kernel=rbf, probability=True; total time=   7.6s\n",
            "[CV] END ....C=50, gamma=scale, kernel=rbf, probability=True; total time=   7.4s\n",
            "[CV] END .....C=50, gamma=auto, kernel=rbf, probability=True; total time=  10.1s\n",
            "[CV] END .....C=50, gamma=auto, kernel=rbf, probability=True; total time=  10.4s\n",
            "[CV] END .....C=50, gamma=auto, kernel=rbf, probability=True; total time=  10.2s\n",
            "[CV] END .....C=50, gamma=auto, kernel=rbf, probability=True; total time=  10.6s\n",
            "[CV] END .....C=50, gamma=auto, kernel=rbf, probability=True; total time=  10.1s\n"
          ]
        },
        {
          "output_type": "execute_result",
          "data": {
            "text/plain": [
              "GridSearchCV(cv=5,\n",
              "             estimator=SVC(class_weight={0: np.float64(0.8686440677966102),\n",
              "                                         1: np.float64(0.8728710462287105),\n",
              "                                         2: np.float64(0.8675937122128174),\n",
              "                                         3: np.float64(1.8164556962025316)}),\n",
              "             param_grid={'C': [1, 10, 50], 'gamma': ['scale', 'auto'],\n",
              "                         'kernel': ['rbf'], 'probability': [True]},\n",
              "             verbose=2)"
            ],
            "text/html": [
              "<style>#sk-container-id-2 {\n",
              "  /* Definition of color scheme common for light and dark mode */\n",
              "  --sklearn-color-text: #000;\n",
              "  --sklearn-color-text-muted: #666;\n",
              "  --sklearn-color-line: gray;\n",
              "  /* Definition of color scheme for unfitted estimators */\n",
              "  --sklearn-color-unfitted-level-0: #fff5e6;\n",
              "  --sklearn-color-unfitted-level-1: #f6e4d2;\n",
              "  --sklearn-color-unfitted-level-2: #ffe0b3;\n",
              "  --sklearn-color-unfitted-level-3: chocolate;\n",
              "  /* Definition of color scheme for fitted estimators */\n",
              "  --sklearn-color-fitted-level-0: #f0f8ff;\n",
              "  --sklearn-color-fitted-level-1: #d4ebff;\n",
              "  --sklearn-color-fitted-level-2: #b3dbfd;\n",
              "  --sklearn-color-fitted-level-3: cornflowerblue;\n",
              "\n",
              "  /* Specific color for light theme */\n",
              "  --sklearn-color-text-on-default-background: var(--sg-text-color, var(--theme-code-foreground, var(--jp-content-font-color1, black)));\n",
              "  --sklearn-color-background: var(--sg-background-color, var(--theme-background, var(--jp-layout-color0, white)));\n",
              "  --sklearn-color-border-box: var(--sg-text-color, var(--theme-code-foreground, var(--jp-content-font-color1, black)));\n",
              "  --sklearn-color-icon: #696969;\n",
              "\n",
              "  @media (prefers-color-scheme: dark) {\n",
              "    /* Redefinition of color scheme for dark theme */\n",
              "    --sklearn-color-text-on-default-background: var(--sg-text-color, var(--theme-code-foreground, var(--jp-content-font-color1, white)));\n",
              "    --sklearn-color-background: var(--sg-background-color, var(--theme-background, var(--jp-layout-color0, #111)));\n",
              "    --sklearn-color-border-box: var(--sg-text-color, var(--theme-code-foreground, var(--jp-content-font-color1, white)));\n",
              "    --sklearn-color-icon: #878787;\n",
              "  }\n",
              "}\n",
              "\n",
              "#sk-container-id-2 {\n",
              "  color: var(--sklearn-color-text);\n",
              "}\n",
              "\n",
              "#sk-container-id-2 pre {\n",
              "  padding: 0;\n",
              "}\n",
              "\n",
              "#sk-container-id-2 input.sk-hidden--visually {\n",
              "  border: 0;\n",
              "  clip: rect(1px 1px 1px 1px);\n",
              "  clip: rect(1px, 1px, 1px, 1px);\n",
              "  height: 1px;\n",
              "  margin: -1px;\n",
              "  overflow: hidden;\n",
              "  padding: 0;\n",
              "  position: absolute;\n",
              "  width: 1px;\n",
              "}\n",
              "\n",
              "#sk-container-id-2 div.sk-dashed-wrapped {\n",
              "  border: 1px dashed var(--sklearn-color-line);\n",
              "  margin: 0 0.4em 0.5em 0.4em;\n",
              "  box-sizing: border-box;\n",
              "  padding-bottom: 0.4em;\n",
              "  background-color: var(--sklearn-color-background);\n",
              "}\n",
              "\n",
              "#sk-container-id-2 div.sk-container {\n",
              "  /* jupyter's `normalize.less` sets `[hidden] { display: none; }`\n",
              "     but bootstrap.min.css set `[hidden] { display: none !important; }`\n",
              "     so we also need the `!important` here to be able to override the\n",
              "     default hidden behavior on the sphinx rendered scikit-learn.org.\n",
              "     See: https://github.com/scikit-learn/scikit-learn/issues/21755 */\n",
              "  display: inline-block !important;\n",
              "  position: relative;\n",
              "}\n",
              "\n",
              "#sk-container-id-2 div.sk-text-repr-fallback {\n",
              "  display: none;\n",
              "}\n",
              "\n",
              "div.sk-parallel-item,\n",
              "div.sk-serial,\n",
              "div.sk-item {\n",
              "  /* draw centered vertical line to link estimators */\n",
              "  background-image: linear-gradient(var(--sklearn-color-text-on-default-background), var(--sklearn-color-text-on-default-background));\n",
              "  background-size: 2px 100%;\n",
              "  background-repeat: no-repeat;\n",
              "  background-position: center center;\n",
              "}\n",
              "\n",
              "/* Parallel-specific style estimator block */\n",
              "\n",
              "#sk-container-id-2 div.sk-parallel-item::after {\n",
              "  content: \"\";\n",
              "  width: 100%;\n",
              "  border-bottom: 2px solid var(--sklearn-color-text-on-default-background);\n",
              "  flex-grow: 1;\n",
              "}\n",
              "\n",
              "#sk-container-id-2 div.sk-parallel {\n",
              "  display: flex;\n",
              "  align-items: stretch;\n",
              "  justify-content: center;\n",
              "  background-color: var(--sklearn-color-background);\n",
              "  position: relative;\n",
              "}\n",
              "\n",
              "#sk-container-id-2 div.sk-parallel-item {\n",
              "  display: flex;\n",
              "  flex-direction: column;\n",
              "}\n",
              "\n",
              "#sk-container-id-2 div.sk-parallel-item:first-child::after {\n",
              "  align-self: flex-end;\n",
              "  width: 50%;\n",
              "}\n",
              "\n",
              "#sk-container-id-2 div.sk-parallel-item:last-child::after {\n",
              "  align-self: flex-start;\n",
              "  width: 50%;\n",
              "}\n",
              "\n",
              "#sk-container-id-2 div.sk-parallel-item:only-child::after {\n",
              "  width: 0;\n",
              "}\n",
              "\n",
              "/* Serial-specific style estimator block */\n",
              "\n",
              "#sk-container-id-2 div.sk-serial {\n",
              "  display: flex;\n",
              "  flex-direction: column;\n",
              "  align-items: center;\n",
              "  background-color: var(--sklearn-color-background);\n",
              "  padding-right: 1em;\n",
              "  padding-left: 1em;\n",
              "}\n",
              "\n",
              "\n",
              "/* Toggleable style: style used for estimator/Pipeline/ColumnTransformer box that is\n",
              "clickable and can be expanded/collapsed.\n",
              "- Pipeline and ColumnTransformer use this feature and define the default style\n",
              "- Estimators will overwrite some part of the style using the `sk-estimator` class\n",
              "*/\n",
              "\n",
              "/* Pipeline and ColumnTransformer style (default) */\n",
              "\n",
              "#sk-container-id-2 div.sk-toggleable {\n",
              "  /* Default theme specific background. It is overwritten whether we have a\n",
              "  specific estimator or a Pipeline/ColumnTransformer */\n",
              "  background-color: var(--sklearn-color-background);\n",
              "}\n",
              "\n",
              "/* Toggleable label */\n",
              "#sk-container-id-2 label.sk-toggleable__label {\n",
              "  cursor: pointer;\n",
              "  display: flex;\n",
              "  width: 100%;\n",
              "  margin-bottom: 0;\n",
              "  padding: 0.5em;\n",
              "  box-sizing: border-box;\n",
              "  text-align: center;\n",
              "  align-items: start;\n",
              "  justify-content: space-between;\n",
              "  gap: 0.5em;\n",
              "}\n",
              "\n",
              "#sk-container-id-2 label.sk-toggleable__label .caption {\n",
              "  font-size: 0.6rem;\n",
              "  font-weight: lighter;\n",
              "  color: var(--sklearn-color-text-muted);\n",
              "}\n",
              "\n",
              "#sk-container-id-2 label.sk-toggleable__label-arrow:before {\n",
              "  /* Arrow on the left of the label */\n",
              "  content: \"▸\";\n",
              "  float: left;\n",
              "  margin-right: 0.25em;\n",
              "  color: var(--sklearn-color-icon);\n",
              "}\n",
              "\n",
              "#sk-container-id-2 label.sk-toggleable__label-arrow:hover:before {\n",
              "  color: var(--sklearn-color-text);\n",
              "}\n",
              "\n",
              "/* Toggleable content - dropdown */\n",
              "\n",
              "#sk-container-id-2 div.sk-toggleable__content {\n",
              "  max-height: 0;\n",
              "  max-width: 0;\n",
              "  overflow: hidden;\n",
              "  text-align: left;\n",
              "  /* unfitted */\n",
              "  background-color: var(--sklearn-color-unfitted-level-0);\n",
              "}\n",
              "\n",
              "#sk-container-id-2 div.sk-toggleable__content.fitted {\n",
              "  /* fitted */\n",
              "  background-color: var(--sklearn-color-fitted-level-0);\n",
              "}\n",
              "\n",
              "#sk-container-id-2 div.sk-toggleable__content pre {\n",
              "  margin: 0.2em;\n",
              "  border-radius: 0.25em;\n",
              "  color: var(--sklearn-color-text);\n",
              "  /* unfitted */\n",
              "  background-color: var(--sklearn-color-unfitted-level-0);\n",
              "}\n",
              "\n",
              "#sk-container-id-2 div.sk-toggleable__content.fitted pre {\n",
              "  /* unfitted */\n",
              "  background-color: var(--sklearn-color-fitted-level-0);\n",
              "}\n",
              "\n",
              "#sk-container-id-2 input.sk-toggleable__control:checked~div.sk-toggleable__content {\n",
              "  /* Expand drop-down */\n",
              "  max-height: 200px;\n",
              "  max-width: 100%;\n",
              "  overflow: auto;\n",
              "}\n",
              "\n",
              "#sk-container-id-2 input.sk-toggleable__control:checked~label.sk-toggleable__label-arrow:before {\n",
              "  content: \"▾\";\n",
              "}\n",
              "\n",
              "/* Pipeline/ColumnTransformer-specific style */\n",
              "\n",
              "#sk-container-id-2 div.sk-label input.sk-toggleable__control:checked~label.sk-toggleable__label {\n",
              "  color: var(--sklearn-color-text);\n",
              "  background-color: var(--sklearn-color-unfitted-level-2);\n",
              "}\n",
              "\n",
              "#sk-container-id-2 div.sk-label.fitted input.sk-toggleable__control:checked~label.sk-toggleable__label {\n",
              "  background-color: var(--sklearn-color-fitted-level-2);\n",
              "}\n",
              "\n",
              "/* Estimator-specific style */\n",
              "\n",
              "/* Colorize estimator box */\n",
              "#sk-container-id-2 div.sk-estimator input.sk-toggleable__control:checked~label.sk-toggleable__label {\n",
              "  /* unfitted */\n",
              "  background-color: var(--sklearn-color-unfitted-level-2);\n",
              "}\n",
              "\n",
              "#sk-container-id-2 div.sk-estimator.fitted input.sk-toggleable__control:checked~label.sk-toggleable__label {\n",
              "  /* fitted */\n",
              "  background-color: var(--sklearn-color-fitted-level-2);\n",
              "}\n",
              "\n",
              "#sk-container-id-2 div.sk-label label.sk-toggleable__label,\n",
              "#sk-container-id-2 div.sk-label label {\n",
              "  /* The background is the default theme color */\n",
              "  color: var(--sklearn-color-text-on-default-background);\n",
              "}\n",
              "\n",
              "/* On hover, darken the color of the background */\n",
              "#sk-container-id-2 div.sk-label:hover label.sk-toggleable__label {\n",
              "  color: var(--sklearn-color-text);\n",
              "  background-color: var(--sklearn-color-unfitted-level-2);\n",
              "}\n",
              "\n",
              "/* Label box, darken color on hover, fitted */\n",
              "#sk-container-id-2 div.sk-label.fitted:hover label.sk-toggleable__label.fitted {\n",
              "  color: var(--sklearn-color-text);\n",
              "  background-color: var(--sklearn-color-fitted-level-2);\n",
              "}\n",
              "\n",
              "/* Estimator label */\n",
              "\n",
              "#sk-container-id-2 div.sk-label label {\n",
              "  font-family: monospace;\n",
              "  font-weight: bold;\n",
              "  display: inline-block;\n",
              "  line-height: 1.2em;\n",
              "}\n",
              "\n",
              "#sk-container-id-2 div.sk-label-container {\n",
              "  text-align: center;\n",
              "}\n",
              "\n",
              "/* Estimator-specific */\n",
              "#sk-container-id-2 div.sk-estimator {\n",
              "  font-family: monospace;\n",
              "  border: 1px dotted var(--sklearn-color-border-box);\n",
              "  border-radius: 0.25em;\n",
              "  box-sizing: border-box;\n",
              "  margin-bottom: 0.5em;\n",
              "  /* unfitted */\n",
              "  background-color: var(--sklearn-color-unfitted-level-0);\n",
              "}\n",
              "\n",
              "#sk-container-id-2 div.sk-estimator.fitted {\n",
              "  /* fitted */\n",
              "  background-color: var(--sklearn-color-fitted-level-0);\n",
              "}\n",
              "\n",
              "/* on hover */\n",
              "#sk-container-id-2 div.sk-estimator:hover {\n",
              "  /* unfitted */\n",
              "  background-color: var(--sklearn-color-unfitted-level-2);\n",
              "}\n",
              "\n",
              "#sk-container-id-2 div.sk-estimator.fitted:hover {\n",
              "  /* fitted */\n",
              "  background-color: var(--sklearn-color-fitted-level-2);\n",
              "}\n",
              "\n",
              "/* Specification for estimator info (e.g. \"i\" and \"?\") */\n",
              "\n",
              "/* Common style for \"i\" and \"?\" */\n",
              "\n",
              ".sk-estimator-doc-link,\n",
              "a:link.sk-estimator-doc-link,\n",
              "a:visited.sk-estimator-doc-link {\n",
              "  float: right;\n",
              "  font-size: smaller;\n",
              "  line-height: 1em;\n",
              "  font-family: monospace;\n",
              "  background-color: var(--sklearn-color-background);\n",
              "  border-radius: 1em;\n",
              "  height: 1em;\n",
              "  width: 1em;\n",
              "  text-decoration: none !important;\n",
              "  margin-left: 0.5em;\n",
              "  text-align: center;\n",
              "  /* unfitted */\n",
              "  border: var(--sklearn-color-unfitted-level-1) 1pt solid;\n",
              "  color: var(--sklearn-color-unfitted-level-1);\n",
              "}\n",
              "\n",
              ".sk-estimator-doc-link.fitted,\n",
              "a:link.sk-estimator-doc-link.fitted,\n",
              "a:visited.sk-estimator-doc-link.fitted {\n",
              "  /* fitted */\n",
              "  border: var(--sklearn-color-fitted-level-1) 1pt solid;\n",
              "  color: var(--sklearn-color-fitted-level-1);\n",
              "}\n",
              "\n",
              "/* On hover */\n",
              "div.sk-estimator:hover .sk-estimator-doc-link:hover,\n",
              ".sk-estimator-doc-link:hover,\n",
              "div.sk-label-container:hover .sk-estimator-doc-link:hover,\n",
              ".sk-estimator-doc-link:hover {\n",
              "  /* unfitted */\n",
              "  background-color: var(--sklearn-color-unfitted-level-3);\n",
              "  color: var(--sklearn-color-background);\n",
              "  text-decoration: none;\n",
              "}\n",
              "\n",
              "div.sk-estimator.fitted:hover .sk-estimator-doc-link.fitted:hover,\n",
              ".sk-estimator-doc-link.fitted:hover,\n",
              "div.sk-label-container:hover .sk-estimator-doc-link.fitted:hover,\n",
              ".sk-estimator-doc-link.fitted:hover {\n",
              "  /* fitted */\n",
              "  background-color: var(--sklearn-color-fitted-level-3);\n",
              "  color: var(--sklearn-color-background);\n",
              "  text-decoration: none;\n",
              "}\n",
              "\n",
              "/* Span, style for the box shown on hovering the info icon */\n",
              ".sk-estimator-doc-link span {\n",
              "  display: none;\n",
              "  z-index: 9999;\n",
              "  position: relative;\n",
              "  font-weight: normal;\n",
              "  right: .2ex;\n",
              "  padding: .5ex;\n",
              "  margin: .5ex;\n",
              "  width: min-content;\n",
              "  min-width: 20ex;\n",
              "  max-width: 50ex;\n",
              "  color: var(--sklearn-color-text);\n",
              "  box-shadow: 2pt 2pt 4pt #999;\n",
              "  /* unfitted */\n",
              "  background: var(--sklearn-color-unfitted-level-0);\n",
              "  border: .5pt solid var(--sklearn-color-unfitted-level-3);\n",
              "}\n",
              "\n",
              ".sk-estimator-doc-link.fitted span {\n",
              "  /* fitted */\n",
              "  background: var(--sklearn-color-fitted-level-0);\n",
              "  border: var(--sklearn-color-fitted-level-3);\n",
              "}\n",
              "\n",
              ".sk-estimator-doc-link:hover span {\n",
              "  display: block;\n",
              "}\n",
              "\n",
              "/* \"?\"-specific style due to the `<a>` HTML tag */\n",
              "\n",
              "#sk-container-id-2 a.estimator_doc_link {\n",
              "  float: right;\n",
              "  font-size: 1rem;\n",
              "  line-height: 1em;\n",
              "  font-family: monospace;\n",
              "  background-color: var(--sklearn-color-background);\n",
              "  border-radius: 1rem;\n",
              "  height: 1rem;\n",
              "  width: 1rem;\n",
              "  text-decoration: none;\n",
              "  /* unfitted */\n",
              "  color: var(--sklearn-color-unfitted-level-1);\n",
              "  border: var(--sklearn-color-unfitted-level-1) 1pt solid;\n",
              "}\n",
              "\n",
              "#sk-container-id-2 a.estimator_doc_link.fitted {\n",
              "  /* fitted */\n",
              "  border: var(--sklearn-color-fitted-level-1) 1pt solid;\n",
              "  color: var(--sklearn-color-fitted-level-1);\n",
              "}\n",
              "\n",
              "/* On hover */\n",
              "#sk-container-id-2 a.estimator_doc_link:hover {\n",
              "  /* unfitted */\n",
              "  background-color: var(--sklearn-color-unfitted-level-3);\n",
              "  color: var(--sklearn-color-background);\n",
              "  text-decoration: none;\n",
              "}\n",
              "\n",
              "#sk-container-id-2 a.estimator_doc_link.fitted:hover {\n",
              "  /* fitted */\n",
              "  background-color: var(--sklearn-color-fitted-level-3);\n",
              "}\n",
              "</style><div id=\"sk-container-id-2\" class=\"sk-top-container\"><div class=\"sk-text-repr-fallback\"><pre>GridSearchCV(cv=5,\n",
              "             estimator=SVC(class_weight={0: np.float64(0.8686440677966102),\n",
              "                                         1: np.float64(0.8728710462287105),\n",
              "                                         2: np.float64(0.8675937122128174),\n",
              "                                         3: np.float64(1.8164556962025316)}),\n",
              "             param_grid={&#x27;C&#x27;: [1, 10, 50], &#x27;gamma&#x27;: [&#x27;scale&#x27;, &#x27;auto&#x27;],\n",
              "                         &#x27;kernel&#x27;: [&#x27;rbf&#x27;], &#x27;probability&#x27;: [True]},\n",
              "             verbose=2)</pre><b>In a Jupyter environment, please rerun this cell to show the HTML representation or trust the notebook. <br />On GitHub, the HTML representation is unable to render, please try loading this page with nbviewer.org.</b></div><div class=\"sk-container\" hidden><div class=\"sk-item sk-dashed-wrapped\"><div class=\"sk-label-container\"><div class=\"sk-label fitted sk-toggleable\"><input class=\"sk-toggleable__control sk-hidden--visually\" id=\"sk-estimator-id-4\" type=\"checkbox\" ><label for=\"sk-estimator-id-4\" class=\"sk-toggleable__label fitted sk-toggleable__label-arrow\"><div><div>GridSearchCV</div></div><div><a class=\"sk-estimator-doc-link fitted\" rel=\"noreferrer\" target=\"_blank\" href=\"https://scikit-learn.org/1.6/modules/generated/sklearn.model_selection.GridSearchCV.html\">?<span>Documentation for GridSearchCV</span></a><span class=\"sk-estimator-doc-link fitted\">i<span>Fitted</span></span></div></label><div class=\"sk-toggleable__content fitted\"><pre>GridSearchCV(cv=5,\n",
              "             estimator=SVC(class_weight={0: np.float64(0.8686440677966102),\n",
              "                                         1: np.float64(0.8728710462287105),\n",
              "                                         2: np.float64(0.8675937122128174),\n",
              "                                         3: np.float64(1.8164556962025316)}),\n",
              "             param_grid={&#x27;C&#x27;: [1, 10, 50], &#x27;gamma&#x27;: [&#x27;scale&#x27;, &#x27;auto&#x27;],\n",
              "                         &#x27;kernel&#x27;: [&#x27;rbf&#x27;], &#x27;probability&#x27;: [True]},\n",
              "             verbose=2)</pre></div> </div></div><div class=\"sk-parallel\"><div class=\"sk-parallel-item\"><div class=\"sk-item\"><div class=\"sk-label-container\"><div class=\"sk-label fitted sk-toggleable\"><input class=\"sk-toggleable__control sk-hidden--visually\" id=\"sk-estimator-id-5\" type=\"checkbox\" ><label for=\"sk-estimator-id-5\" class=\"sk-toggleable__label fitted sk-toggleable__label-arrow\"><div><div>best_estimator_: SVC</div></div></label><div class=\"sk-toggleable__content fitted\"><pre>SVC(C=10,\n",
              "    class_weight={0: np.float64(0.8686440677966102),\n",
              "                  1: np.float64(0.8728710462287105),\n",
              "                  2: np.float64(0.8675937122128174),\n",
              "                  3: np.float64(1.8164556962025316)},\n",
              "    probability=True)</pre></div> </div></div><div class=\"sk-serial\"><div class=\"sk-item\"><div class=\"sk-estimator fitted sk-toggleable\"><input class=\"sk-toggleable__control sk-hidden--visually\" id=\"sk-estimator-id-6\" type=\"checkbox\" ><label for=\"sk-estimator-id-6\" class=\"sk-toggleable__label fitted sk-toggleable__label-arrow\"><div><div>SVC</div></div><div><a class=\"sk-estimator-doc-link fitted\" rel=\"noreferrer\" target=\"_blank\" href=\"https://scikit-learn.org/1.6/modules/generated/sklearn.svm.SVC.html\">?<span>Documentation for SVC</span></a></div></label><div class=\"sk-toggleable__content fitted\"><pre>SVC(C=10,\n",
              "    class_weight={0: np.float64(0.8686440677966102),\n",
              "                  1: np.float64(0.8728710462287105),\n",
              "                  2: np.float64(0.8675937122128174),\n",
              "                  3: np.float64(1.8164556962025316)},\n",
              "    probability=True)</pre></div> </div></div></div></div></div></div></div></div></div>"
            ]
          },
          "metadata": {},
          "execution_count": 19
        }
      ]
    },
    {
      "cell_type": "code",
      "source": [
        "# Best model\n",
        "svm_classifier = grid_search.best_estimator_"
      ],
      "metadata": {
        "id": "1BVplQMZKmj1"
      },
      "execution_count": null,
      "outputs": []
    },
    {
      "cell_type": "markdown",
      "source": [
        "### 11. Evaluate Model Performance\n",
        "We evaluate the model on the test set.\n",
        "Model performance is evaluated using accuracy score and classification report.\n"
      ],
      "metadata": {
        "id": "zsO9U-FGR_tq"
      }
    },
    {
      "cell_type": "code",
      "source": [
        "# Evaluate model\n",
        "y_pred = svm_classifier.predict(X_test)\n",
        "print(f\"Test Accuracy: {accuracy_score(y_test, y_pred):.2f}\")\n",
        "print(classification_report(y_test, y_pred))"
      ],
      "metadata": {
        "colab": {
          "base_uri": "https://localhost:8080/"
        },
        "id": "yq3RboSTKuO_",
        "outputId": "b95db042-abb1-4501-a0bf-b75e71f6b8ec"
      },
      "execution_count": null,
      "outputs": [
        {
          "output_type": "stream",
          "name": "stdout",
          "text": [
            "Test Accuracy: 0.93\n",
            "              precision    recall  f1-score   support\n",
            "\n",
            "           0       0.99      0.97      0.98       148\n",
            "           1       0.93      0.86      0.90       169\n",
            "           2       0.98      0.98      0.98       179\n",
            "           3       0.76      0.91      0.83        78\n",
            "\n",
            "    accuracy                           0.93       574\n",
            "   macro avg       0.91      0.93      0.92       574\n",
            "weighted avg       0.94      0.93      0.93       574\n",
            "\n"
          ]
        }
      ]
    },
    {
      "cell_type": "markdown",
      "source": [
        "### 12. ROC Curve\n",
        "We generate the ROC curve for each class.\n",
        "ROC curves visualize the trade-off between sensitivity and specificity."
      ],
      "metadata": {
        "id": "yhTIi0LOSLkW"
      }
    },
    {
      "cell_type": "code",
      "source": [
        "import matplotlib.pyplot as plt\n",
        "from sklearn.metrics import roc_curve, auc, confusion_matrix\n",
        "import seaborn as sns\n",
        "# Generating ROC CURVE\n",
        "# Get predicted probabilities for each class\n",
        "y_probs = svm_classifier.predict_proba(X_test)\n",
        "\n",
        "# Compute ROC curve and AUC for each class\n",
        "fpr = {}\n",
        "tpr = {}\n",
        "roc_auc = {}\n",
        "for i in range(len(LABEL_MAP)):\n",
        "    fpr[i], tpr[i], _ = roc_curve(y_test, y_probs[:, i], pos_label=i)\n",
        "    roc_auc[i] = auc(fpr[i], tpr[i])\n",
        "\n",
        "plt.figure(figsize=(10, 8))\n",
        "for i in range(len(LABEL_MAP)):\n",
        "    plt.plot(fpr[i], tpr[i], label=f'{list(LABEL_MAP.keys())[i]} (AUC = {roc_auc[i]:.2f})')\n",
        "plt.plot([0, 1], [0, 1], 'k--')\n",
        "plt.xlabel('False Positive Rate')\n",
        "plt.ylabel('True Positive Rate')\n",
        "plt.title('Receiver Operating Characteristic (ROC) Curve')\n",
        "plt.legend(loc='lower right')\n",
        "plt.show()"
      ],
      "metadata": {
        "colab": {
          "base_uri": "https://localhost:8080/",
          "height": 718
        },
        "id": "uRhNC3woLwu7",
        "outputId": "1083be2d-c410-42c1-8765-cde7fc0319ca"
      },
      "execution_count": null,
      "outputs": [
        {
          "output_type": "display_data",
          "data": {
            "text/plain": [
              "<Figure size 1000x800 with 1 Axes>"
            ],
            "image/png": "[encoded data removed]"
          },
          "metadata": {}
        }
      ]
    },
    {
      "cell_type": "markdown",
      "source": [
        "### 13. Confusion Matrix\n",
        "We visualize the confusion matrix.\n",
        "Confusion matrix displays classification errors."
      ],
      "metadata": {
        "id": "X-DvtFk3SWx9"
      }
    },
    {
      "cell_type": "code",
      "source": [
        "# Generate and plot the confusion matrix\n",
        "# Generate confusion matrix\n",
        "cm = confusion_matrix(y_test, y_pred)\n",
        "\n",
        "# Plot confusion matrix using seaborn\n",
        "plt.figure(figsize=(8, 6))\n",
        "sns.heatmap(cm, annot=True, fmt='d', cmap='Blues', xticklabels=LABEL_MAP.keys(), yticklabels=LABEL_MAP.keys())\n",
        "plt.xlabel('Predicted Label')\n",
        "plt.ylabel('True Label')\n",
        "plt.title('Confusion Matrix')\n",
        "plt.show()"
      ],
      "metadata": {
        "colab": {
          "base_uri": "https://localhost:8080/",
          "height": 564
        },
        "id": "g9JWsUBhSRG_",
        "outputId": "f226d06e-d0f8-4e26-a9d6-2e938337c4fd"
      },
      "execution_count": null,
      "outputs": [
        {
          "output_type": "display_data",
          "data": {
            "text/plain": [
              "<Figure size 800x600 with 2 Axes>"
            ],
            "image/png": "[encoded data removed]"
          },
          "metadata": {}
        }
      ]
    },
    {
      "cell_type": "markdown",
      "source": [
        "### 14. Save the Model and PCA Transformer\n",
        "We save the trained SVM model, PCA transformer, and scaler for future use."
      ],
      "metadata": {
        "id": "WZqJeArkSj5h"
      }
    },
    {
      "cell_type": "code",
      "source": [
        "# Save model and PCA transformer\n",
        "joblib.dump(svm_classifier, \"svm_model.pkl\")\n",
        "joblib.dump(pca, \"pca_transform.pkl\")\n",
        "joblib.dump(scaler, \"scaler.pkl\")\n",
        "print(\"Model, PCA, and Scaler saved successfully!\")"
      ],
      "metadata": {
        "colab": {
          "base_uri": "https://localhost:8080/"
        },
        "id": "gGkqT2BcKxSn",
        "outputId": "402ac652-6d7c-4091-a718-4d2b161a09f2"
      },
      "execution_count": null,
      "outputs": [
        {
          "output_type": "stream",
          "name": "stdout",
          "text": [
            "Model, PCA, and Scaler saved successfully!\n"
          ]
        }
      ]
    },
    {
      "cell_type": "markdown",
      "source": [
        "### 15. Function for Prediction on New Images\n",
        "This function takes an image path and predicts the tumor type."
      ],
      "metadata": {
        "id": "T77CIBD-Slep"
      }
    },
    {
      "cell_type": "code",
      "source": [
        "# Function to predict tumor type\n",
        "def predict_tumor(image_path):\n",
        "    svm_classifier = joblib.load(\"svm_model.pkl\")\n",
        "    pca = joblib.load(\"pca_transform.pkl\")\n",
        "    scaler = joblib.load(\"scaler.pkl\")\n",
        "\n",
        "    img = load_img(image_path, target_size=IMG_SIZE, color_mode='grayscale')\n",
        "    img_array = img_to_array(img).astype(np.uint8)\n",
        "    img_array = cv2.equalizeHist(img_array)\n",
        "    features = extract_features(img_array)\n",
        "\n",
        "    img_scaled = scaler.transform([features])\n",
        "    img_pca = pca.transform(img_scaled)\n",
        "    prediction = svm_classifier.predict(img_pca)\n",
        "    predicted_label = list(LABEL_MAP.keys())[list(LABEL_MAP.values()).index(prediction[0])]\n",
        "\n",
        "    return predicted_label"
      ],
      "metadata": {
        "id": "iKBhym9tK65-"
      },
      "execution_count": null,
      "outputs": []
    },
    {
      "cell_type": "markdown",
      "source": [
        "### 16. Test the Prediction Function\n",
        "We test the model with a sample image."
      ],
      "metadata": {
        "id": "c_NTyS1wS3Ig"
      }
    },
    {
      "cell_type": "code",
      "source": [
        "# Example usage\n",
        "image_path = \"/content/Brain-Tumor-Classification-DataSet/Testing/no_tumor/image(100).jpg\"  # Change this to your test image path\n",
        "predicted_tumor = predict_tumor(image_path)\n",
        "print(f\"Predicted Tumor Type: {predicted_tumor}\")"
      ],
      "metadata": {
        "colab": {
          "base_uri": "https://localhost:8080/"
        },
        "id": "5Cp0IZOxSuQE",
        "outputId": "78d2138e-459c-4099-bfb1-7e4c190ace80"
      },
      "execution_count": null,
      "outputs": [
        {
          "output_type": "stream",
          "name": "stdout",
          "text": [
            "Predicted Tumor Type: no_tumor\n"
          ]
        }
      ]
    },
    {
      "cell_type": "markdown",
      "source": [
        "### Conclusion\n",
        "This project successfully classifies brain tumors using SVM with feature extraction techniques (HOG & Sobel Edge Detection). PCA improves efficiency, and hyperparameter tuning enhances accuracy. The trained model is saved and can predict tumor types from new MRI scans."
      ],
      "metadata": {
        "id": "NxW6QcvwWxhz"
      }
    }
  ]
}